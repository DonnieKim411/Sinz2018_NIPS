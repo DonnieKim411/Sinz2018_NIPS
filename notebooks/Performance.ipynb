{
 "cells": [
  {
   "cell_type": "code",
   "execution_count": null,
   "metadata": {},
   "outputs": [],
   "source": [
    "%matplotlib inline\n",
    "%load_ext autoreload\n",
    "%autoreload 2\n"
   ]
  },
  {
   "cell_type": "code",
   "execution_count": null,
   "metadata": {},
   "outputs": [],
   "source": [
    "from nips2018.movie import data, parameters, models, oracle\n",
    "from nips2018.movie.analysis import performance\n",
    "import pandas as pd\n",
    "import seaborn as sns\n",
    "import numpy as np\n",
    "import datajoint as dj\n",
    "import matplotlib.pyplot as plt\n",
    "from config import movie_vs_noise_cmap, fix_axis, scan_order, scan_cmap, performance_yticks, performance_ylim, strike\n",
    "\n",
    "\n",
    "\n",
    "def test_label(row):\n",
    "    h = row.test_data_hash\n",
    "    if h == '5253599d3dceed531841271d6eeba9c5':\n",
    "        return  'movies'\n",
    "    elif h  == '6c0290da908317e55c4baf92e379d651':\n",
    "        return 'noise'\n",
    "    \n",
    "def readout_train(row):\n",
    "    h = row.data_hash\n",
    "    if h in ('a4ecafc831670c7744ffe22320df77b7', 'b768df67f772d4b92fa6970265d6a1dd'):\n",
    "        if row.preproc_id == 1:\n",
    "            return 'movies'\n",
    "        elif row.preproc_id == 2:\n",
    "            return 'noise'\n",
    "        elif row.preproc_id == 3:\n",
    "            return 'both'\n",
    "    elif h in ('76a76dbc0216d8b10a079957ea24e3ad','92ed0adb09662102f8358043316aa2de'):\n",
    "        if row.preproc_id == 1:\n",
    "            return 'noise'\n",
    "        elif row.preproc_id == 2:\n",
    "            return 'movies'\n",
    "        elif row.preproc_id == 3:\n",
    "            return 'both'\n",
    "    else:\n",
    "        raise ValueError('Wrong hash')\n",
    "\n",
    "def core_train(row):\n",
    "    h = row.data_hash\n",
    "    if h in ('a4ecafc831670c7744ffe22320df77b7', 'b768df67f772d4b92fa6970265d6a1dd'):\n",
    "        return 'movies'\n",
    "    elif h in ('76a76dbc0216d8b10a079957ea24e3ad','92ed0adb09662102f8358043316aa2de'):\n",
    "        return 'noise'\n",
    "    else:\n",
    "        raise ValueError('Wrong hash')\n",
    "\n",
    "sns.set_context('paper', rc={'dpi':150}, font_scale=1.3)"
   ]
  },
  {
   "cell_type": "markdown",
   "metadata": {},
   "source": [
    "# Base Performance"
   ]
  },
  {
   "cell_type": "code",
   "execution_count": null,
   "metadata": {},
   "outputs": [],
   "source": [
    "parameters.DataConfig.AreaLayerSplitRawSizeMatched()"
   ]
  },
  {
   "cell_type": "code",
   "execution_count": null,
   "metadata": {},
   "outputs": [],
   "source": [
    "base = {\n",
    "         'mod_hash': '4954311aa3bebb347ebf411ab5198890',\n",
    "         'seed': 2606,\n",
    "         'shift_hash': '64add03e1462b7413b59812d446aee9f',\n",
    "         'train_hash': '624f62a2ef01d39f6703f3491bb9242b', # batchsize=8 stop gradient\n",
    "         'ro_hash':'bf00321c11e46d68d4a42653a725969d', # 2 and 4 \n",
    "        }\n",
    "group_ids = [21,22,23]\n",
    "group_constr = 'group_id in ({})'.format(','.join(tuple(map(str, group_ids))))\n",
    "network_config = dj.AndList([\n",
    "    group_constr, \n",
    "    base,\n",
    "#     'core_hash in (\"7cb8163e1098433a5faca879ef93baed\")'\n",
    "    'core_hash in (\"22d11147b37e3947e7d1034cc00d402c\", \"7cb8163e1098433a5faca879ef93baed\")'\n",
    "])\n"
   ]
  },
  {
   "cell_type": "code",
   "execution_count": null,
   "metadata": {},
   "outputs": [],
   "source": [
    "models.Encoder.TestScores() & network_config"
   ]
  },
  {
   "cell_type": "code",
   "execution_count": null,
   "metadata": {},
   "outputs": [],
   "source": [
    "rel = models.Encoder.UnitTestScores() & network_config\n",
    "df = pd.DataFrame(rel.fetch())\n",
    "df['scan'] = ['{animal_id}-{session}-{scan_idx}'.format(**r.to_dict()) for _, r in df.iterrows()]\n",
    "df['train/test data'] = ['movies' if r.data_hash == '5253599d3dceed531841271d6eeba9c5' else 'noise' for _, r in df.iterrows()]\n",
    "df['model'] = ['full' if r.core_hash == '22d11147b37e3947e7d1034cc00d402c' else 'linear-nonlinear' for _, r in df.iterrows()]\n",
    "df = df.drop([e for e in df.columns if 'hash' in e], axis=1)\n",
    "df[:10]"
   ]
  },
  {
   "cell_type": "code",
   "execution_count": null,
   "metadata": {},
   "outputs": [],
   "source": [
    "sns.set_context('paper', font_scale=1.5)\n",
    "sns.set_palette(sns.xkcd_palette(['grey', 'golden yellow']))\n",
    "with sns.axes_style(\"ticks\"):\n",
    "    g = sns.factorplot(\"train/test data\", \"pearson\", hue='model', col='scan',\n",
    "                       order=[\"movies\", \"noise\"], col_order=scan_order,  \n",
    "                       hue_order=['linear-nonlinear', 'full'], data=df, kind=\"bar\", legend=False)\n",
    "g.fig.set_dpi(100)\n",
    "g.axes[0,0].set_yticks(performance_yticks)\n",
    "g.axes[0,0].set_ylim(performance_ylim)\n",
    "# g.add_legend()\n",
    "g.axes[0,1].legend(loc='upper right', ncol=2, bbox_to_anchor=(1.2, 1.03))\n",
    "g.set_ylabels('test correlation')\n",
    "g.set_titles('{col_name}')\n",
    "[fix_axis(a) for a in g.axes.ravel()]\n",
    "sns.despine(trim=True)\n",
    "g.fig.set_size_inches((5,5))\n",
    "g.axes[0,0].set_xlabel(\"\")\n",
    "g.axes[0,-1].set_xlabel(\"\")\n",
    "g.fig.subplots_adjust(left=.2)\n",
    "\n",
    "g.fig.savefig('figures/performance_by_source2.png', dpi=100)\n"
   ]
  },
  {
   "cell_type": "markdown",
   "metadata": {},
   "source": [
    "# Network Components"
   ]
  },
  {
   "cell_type": "code",
   "execution_count": null,
   "metadata": {},
   "outputs": [],
   "source": [
    "group_ids = [21,22,23]\n",
    "group_constr = 'group_id in ({})'.format(','.join(tuple(map(str, group_ids))))\n",
    "network_configs = dj.AndList([\n",
    "    {'core_hash': '22d11147b37e3947e7d1034cc00d402c', # 12 x 36\n",
    "     'seed': 2606,\n",
    "     'train_hash': '624f62a2ef01d39f6703f3491bb9242b', # batchsize=8 stop gradient\n",
    "     'ro_hash':'bf00321c11e46d68d4a42653a725969d', # 2 and 4 \n",
    "    },\n",
    "    'mod_hash in (\"4954311aa3bebb347ebf411ab5198890\", \"bafd7322c6e97d25b6299b5d6fe8920b\")',\n",
    "    'shift_hash in (\"64add03e1462b7413b59812d446aee9f\", \"bafd7322c6e97d25b6299b5d6fe8920b\")',\n",
    "    'data_hash in (\"5253599d3dceed531841271d6eeba9c5\")',\n",
    "    'test_data_hash in (\"5253599d3dceed531841271d6eeba9c5\")',\n",
    "    group_constr\n",
    "])\n"
   ]
  },
  {
   "cell_type": "code",
   "execution_count": null,
   "metadata": {},
   "outputs": [],
   "source": [
    "performance.XPearson().populate(network_configs)"
   ]
  },
  {
   "cell_type": "code",
   "execution_count": null,
   "metadata": {},
   "outputs": [],
   "source": [
    "tmp = pd.DataFrame((performance.XPearson() & network_configs).fetch())\n",
    "tmp['shifter'] = ['shifter' if r.shift_hash == '64add03e1462b7413b59812d446aee9f' else 'no shifter' for _, r in tmp.iterrows()]\n",
    "tmp['modulator'] = ['modulator' if r.mod_hash == '4954311aa3bebb347ebf411ab5198890' else 'no modulator' for _, r in tmp.iterrows()]\n",
    "tmp['train data'] = ['movies' if r.data_hash == '5253599d3dceed531841271d6eeba9c5' else 'noise' for _, r in tmp.iterrows()]\n",
    "tmp['test data'] = ['movies' if r.test_data_hash == '5253599d3dceed531841271d6eeba9c5' else 'noise' for _, r in tmp.iterrows()]\n",
    "tmp.drop([e for e in tmp.columns if 'hash' in e], axis=1)"
   ]
  },
  {
   "cell_type": "code",
   "execution_count": null,
   "metadata": {},
   "outputs": [],
   "source": [
    "df = pd.DataFrame((performance.XPearson.UnitScores() & network_configs).fetch())"
   ]
  },
  {
   "cell_type": "code",
   "execution_count": null,
   "metadata": {},
   "outputs": [],
   "source": [
    "df['shifter'] = ['shift' if r.shift_hash == '64add03e1462b7413b59812d446aee9f' else strike('shift') for _, r in df.iterrows()]\n",
    "df['modulator'] = ['mod' if r.mod_hash == '4954311aa3bebb347ebf411ab5198890' else strike('mod') for _, r in df.iterrows()]\n",
    "df['train data'] = ['movies' if r.data_hash == '5253599d3dceed531841271d6eeba9c5' else 'noise' for _, r in df.iterrows()]\n",
    "df['test data'] = ['movies' if r.test_data_hash == '5253599d3dceed531841271d6eeba9c5' else 'noise' for _, r in df.iterrows()]\n",
    "df['scan'] = ['{animal_id}-{session}-{scan_idx}'.format(**r.to_dict()) for _, r in df.iterrows()]\n"
   ]
  },
  {
   "cell_type": "code",
   "execution_count": null,
   "metadata": {},
   "outputs": [],
   "source": [
    "sns.set_context('paper', font_scale=1.5)\n",
    "\n",
    "sns.set_palette(['#76cd26','#069af3'], 2)\n",
    "g = sns.factorplot(\"modulator\", \"pearson\", hue='shifter', col='scan', col_order=scan_order, data=df, \n",
    "                       kind='bar', hue_order=[strike('shift'), 'shift'], order=[strike('mod'), 'mod'], legend=False)\n",
    "g.set_titles('{col_name}')\n",
    "g.set_ylabels('test correlation')\n",
    "g.axes[0,0].set_ylim(performance_ylim)\n",
    "g.axes[0,0].set_yticks(performance_yticks)\n",
    "\n",
    "g.axes[0,1].legend(loc='upper left', ncol=1)\n",
    "\n",
    "[fix_axis(a) for a in g.axes.ravel()]\n",
    "g.fig.set_size_inches((5,5))\n",
    "sns.despine(trim=True)\n",
    "g.axes[0,0].set_xlabel(\"\")\n",
    "g.axes[0,-1].set_xlabel(\"\")\n",
    "g.fig.subplots_adjust(left=.2)\n",
    "g.fig.savefig('figures/performance_by_component.png', dpi=100)\n"
   ]
  },
  {
   "cell_type": "markdown",
   "metadata": {},
   "source": [
    "# Oracle"
   ]
  },
  {
   "cell_type": "code",
   "execution_count": null,
   "metadata": {},
   "outputs": [],
   "source": [
    "group_ids = [21, 22, 23]\n",
    "group_constr = 'group_id in ({})'.format(','.join(tuple(map(str, group_ids))))\n",
    "\n",
    "network_config = dj.AndList([\n",
    "    {    'core_hash': '22d11147b37e3947e7d1034cc00d402c', # 12 x 36\n",
    "         'seed': 2606,\n",
    "         'mod_hash': '4954311aa3bebb347ebf411ab5198890',\n",
    "         'shift_hash': '64add03e1462b7413b59812d446aee9f',\n",
    "         'train_hash': '624f62a2ef01d39f6703f3491bb9242b', # batchsize=8 stop gradient\n",
    "         'ro_hash':'bf00321c11e46d68d4a42653a725969d', # 2 and 4 \n",
    "        },\n",
    "    'data_hash in (\"5253599d3dceed531841271d6eeba9c5\")',\n",
    "    group_constr\n",
    "])\n",
    "    \n"
   ]
  },
  {
   "cell_type": "code",
   "execution_count": null,
   "metadata": {},
   "outputs": [],
   "source": [
    "models.Encoder.TestScores() & network_config"
   ]
  },
  {
   "cell_type": "code",
   "execution_count": null,
   "metadata": {},
   "outputs": [],
   "source": [
    "df_oracle = pd.DataFrame( (oracle.MovieOracle.TotalUnitScores() & 'data_hash in (\"5253599d3dceed531841271d6eeba9c5\")' & group_constr).fetch())\n",
    "df_network = pd.DataFrame( (models.Encoder.UnitTestScores() & network_config).fetch())\n",
    "df = df_network.merge(df_oracle, on=['group_id', 'data_hash', 'animal_id', 'session', 'scan_idx', 'preproc_id', 'unit_id'], suffixes=(\"\", \"_oracle\")).drop([e for e in df_network.columns if 'hash' in e], axis=1)\n",
    "df['session'] = list(map(str, df['session']))\n",
    "df['animal_id'] = list(map(str, df['animal_id']))\n",
    "df['scan_idx'] = list(map(str, df['scan_idx']))\n",
    "df['scan'] = ['{animal_id}-{session}-{scan_idx}'.format(**r.to_dict()) for _, r in df.iterrows()]\n"
   ]
  },
  {
   "cell_type": "code",
   "execution_count": null,
   "metadata": {},
   "outputs": [],
   "source": [
    "sns.set_context('paper', font_scale=1.5)\n",
    "sns.set_palette(scan_cmap)\n",
    "def oracle_regression(x, y, **kwargs):\n",
    "    x = np.array(x)[:, None]\n",
    "    y = np.array(y)\n",
    "    a, _, _, _ = np.linalg.lstsq(x, y)\n",
    "    ax = plt.gca()\n",
    "    label = kwargs.pop('label')\n",
    "    ax.scatter(x, y, **kwargs)\n",
    "    \n",
    "    ax.plot([0,.6],[0,a*.6], '-', color=kwargs['color'], lw=2, label= label)\n",
    "    ax.plot([0,.6],[0,.6], '--', color='darkslategray')\n",
    "    ax.text(.62, .7 * a, '{:.1f}% oracle'.format(a.item() *100), fontsize=10, va='center', color=kwargs['color'], rotation=40)\n",
    "    ax.set_xlim([-.1, .6])\n",
    "    ax.set_ylim([-.1, .6])\n",
    "    ax.set_xticks([0, .25, .5])\n",
    "    ax.set_yticks([0, .25, .5])\n",
    "    ax.grid(True, zorder=-10, linestyle='--')\n",
    "g = sns.FacetGrid(df, hue='scan', hue_order=scan_order)\n",
    "g.map(oracle_regression, 'pearson_oracle', 'pearson', s=.5)\n",
    "\n",
    "g.fig.set_size_inches((5,5))\n",
    "g.fig.set_dpi(100)\n",
    "g.set_xlabels('oracle correlation')\n",
    "g.set_ylabels('test correlation')\n",
    "g.set_titles('scan {col_name}')\n",
    "g.ax.legend(ncol=1)    \n",
    "sns.despine(trim=True)\n",
    "g.fig.tight_layout()\n",
    "g.fig.subplots_adjust(right=.8)\n",
    "g.fig.savefig('figures/percent_oracle.png', dpi=200)"
   ]
  },
  {
   "cell_type": "markdown",
   "metadata": {},
   "source": [
    "# Oracle no shifter/modulator"
   ]
  },
  {
   "cell_type": "code",
   "execution_count": null,
   "metadata": {},
   "outputs": [],
   "source": [
    "group_ids = [21, 22, 23]\n",
    "group_constr = 'group_id in ({})'.format(','.join(tuple(map(str, group_ids))))\n",
    "parameters.ShifterConfig.No()\n",
    "network_config = dj.AndList([\n",
    "    {    'core_hash': '22d11147b37e3947e7d1034cc00d402c', # 12 x 36\n",
    "         'mod_hash': 'bafd7322c6e97d25b6299b5d6fe8920b',# No\n",
    "         'seed': 2606,\n",
    "         'shift_hash': 'bafd7322c6e97d25b6299b5d6fe8920b', # No\n",
    "         'train_hash': '624f62a2ef01d39f6703f3491bb9242b', # batchsize=8 stop gradient\n",
    "         'ro_hash':'bf00321c11e46d68d4a42653a725969d', # 2 and 4 \n",
    "        },\n",
    "    'data_hash in (\"5253599d3dceed531841271d6eeba9c5\")',\n",
    "    group_constr\n",
    "])\n"
   ]
  },
  {
   "cell_type": "code",
   "execution_count": null,
   "metadata": {},
   "outputs": [],
   "source": [
    "models.Encoder.TestScores() & network_config"
   ]
  },
  {
   "cell_type": "code",
   "execution_count": null,
   "metadata": {},
   "outputs": [],
   "source": [
    "df_oracle = pd.DataFrame( (oracle.MovieOracle.TotalUnitScores() & 'data_hash in (\"5253599d3dceed531841271d6eeba9c5\")' & group_constr).fetch())\n",
    "df_network = pd.DataFrame( (models.Encoder.UnitTestScores() & network_config).fetch())\n",
    "df = df_network.merge(df_oracle, on=['group_id', 'data_hash', 'animal_id', 'session', 'scan_idx', 'preproc_id', 'unit_id'], suffixes=(\"\", \"_oracle\")).drop([e for e in df_network.columns if 'hash' in e], axis=1)\n",
    "df['session'] = list(map(str, df['session']))\n",
    "df['animal_id'] = list(map(str, df['animal_id']))\n",
    "df['scan_idx'] = list(map(str, df['scan_idx']))\n",
    "df['scan'] = ['{animal_id}-{session}-{scan_idx}'.format(**r.to_dict()) for _, r in df.iterrows()]\n"
   ]
  },
  {
   "cell_type": "code",
   "execution_count": null,
   "metadata": {},
   "outputs": [],
   "source": [
    "sns.set_context('paper', font_scale=1.5)\n",
    "sns.set_palette(scan_cmap)\n",
    "def oracle_regression(x, y, **kwargs):\n",
    "    x = np.array(x)[:, None]\n",
    "    y = np.array(y)\n",
    "    a, _, _, _ = np.linalg.lstsq(x, y)\n",
    "    ax = plt.gca()\n",
    "    label = kwargs.pop('label')\n",
    "    ax.scatter(x, y, **kwargs)\n",
    "    \n",
    "    ax.plot([0,.6],[0,a*.6], '-', color=kwargs['color'], lw=2, label= label)\n",
    "    ax.plot([0,.6],[0,.6], '--', color='darkslategray')\n",
    "    ax.text(.62, .7 * a, '{:.1f}% oracle'.format(a.item() *100), fontsize=10, va='center', color=kwargs['color'], rotation=40)\n",
    "    ax.set_xlim([-.1, .6])\n",
    "    ax.set_ylim([-.1, .6])\n",
    "    ax.set_xticks([0, .25, .5])\n",
    "    ax.set_yticks([0, .25, .5])\n",
    "    ax.grid(True, zorder=-10, linestyle='--')\n",
    "g = sns.FacetGrid(df, hue='scan', hue_order=scan_order)\n",
    "g.map(oracle_regression, 'pearson_oracle', 'pearson', s=.5)\n",
    "\n",
    "g.fig.set_size_inches((5,5))\n",
    "g.fig.set_dpi(100)\n",
    "g.set_xlabels('oracle correlation')\n",
    "g.set_ylabels('test correlation')\n",
    "g.set_titles('scan {col_name}')\n",
    "g.ax.legend(ncol=1)    \n",
    "sns.despine(trim=True)\n",
    "g.fig.tight_layout()\n",
    "g.fig.subplots_adjust(right=.8)\n",
    "g.fig.savefig('figures/percent_oracle_noMod_noShift.png', dpi=200)"
   ]
  },
  {
   "cell_type": "code",
   "execution_count": null,
   "metadata": {},
   "outputs": [],
   "source": [
    "def percent_oracle(gr):\n",
    "    x = np.array(gr.pearson_oracle)[:, None]\n",
    "    y = np.array(gr.pearson)\n",
    "    a, _, _, _ = np.linalg.lstsq(x, y)\n",
    "    return np.round(a * 100, 2)\n",
    "\n",
    "g = df.groupby('scan')\n",
    "g.agg(percent_oracle)"
   ]
  },
  {
   "cell_type": "markdown",
   "metadata": {},
   "source": [
    "# Oracle for Linear"
   ]
  },
  {
   "cell_type": "markdown",
   "metadata": {},
   "source": [
    "## without shifter and modulator"
   ]
  },
  {
   "cell_type": "code",
   "execution_count": null,
   "metadata": {},
   "outputs": [],
   "source": [
    "group_ids = [21, 22, 23]\n",
    "group_constr = 'group_id in ({})'.format(','.join(tuple(map(str, group_ids))))\n",
    "parameters.ShifterConfig.No()\n",
    "network_config = dj.AndList([\n",
    "    {    'core_hash': '7cb8163e1098433a5faca879ef93baed', # 12 x 36\n",
    "         'mod_hash': 'bafd7322c6e97d25b6299b5d6fe8920b',# No\n",
    "         'seed': 2606,\n",
    "         'shift_hash': 'bafd7322c6e97d25b6299b5d6fe8920b', # No\n",
    "         'train_hash': '624f62a2ef01d39f6703f3491bb9242b', # batchsize=8 stop gradient\n",
    "         'ro_hash':'bf00321c11e46d68d4a42653a725969d', # 2 and 4 \n",
    "        },\n",
    "    'data_hash in (\"5253599d3dceed531841271d6eeba9c5\")',\n",
    "    group_constr\n",
    "])\n"
   ]
  },
  {
   "cell_type": "code",
   "execution_count": null,
   "metadata": {},
   "outputs": [],
   "source": [
    "models.Encoder.TestScores() & network_config"
   ]
  },
  {
   "cell_type": "code",
   "execution_count": null,
   "metadata": {},
   "outputs": [],
   "source": [
    "df_oracle = pd.DataFrame( (oracle.MovieOracle.TotalUnitScores() & 'data_hash in (\"5253599d3dceed531841271d6eeba9c5\")' & group_constr).fetch())\n",
    "df_network = pd.DataFrame( (models.Encoder.UnitTestScores() & network_config).fetch())\n",
    "df = df_network.merge(df_oracle, on=['group_id', 'data_hash', 'animal_id', 'session', 'scan_idx', 'preproc_id', 'unit_id'], suffixes=(\"\", \"_oracle\")).drop([e for e in df_network.columns if 'hash' in e], axis=1)\n",
    "df['session'] = list(map(str, df['session']))\n",
    "df['animal_id'] = list(map(str, df['animal_id']))\n",
    "df['scan_idx'] = list(map(str, df['scan_idx']))\n",
    "df['scan'] = ['{animal_id}-{session}-{scan_idx}'.format(**r.to_dict()) for _, r in df.iterrows()]\n"
   ]
  },
  {
   "cell_type": "code",
   "execution_count": null,
   "metadata": {},
   "outputs": [],
   "source": [
    "sns.set_context('paper', font_scale=1.5)\n",
    "sns.set_palette(scan_cmap)\n",
    "def oracle_regression(x, y, **kwargs):\n",
    "    x = np.array(x)[:, None]\n",
    "    y = np.array(y)\n",
    "    a, _, _, _ = np.linalg.lstsq(x, y)\n",
    "    ax = plt.gca()\n",
    "    label = kwargs.pop('label')\n",
    "    ax.scatter(x, y, **kwargs)\n",
    "    \n",
    "    ax.plot([0,.6],[0,a*.6], '-', color=kwargs['color'], lw=2, label= label)\n",
    "    ax.plot([0,.6],[0,.6], '--', color='darkslategray')\n",
    "    ax.text(.62, .7 * a, '{:.1f}% oracle'.format(a.item() *100), fontsize=10, va='center', color=kwargs['color'], rotation=40)\n",
    "    ax.set_xlim([-.1, .6])\n",
    "    ax.set_ylim([-.1, .6])\n",
    "    ax.set_xticks([0, .25, .5])\n",
    "    ax.set_yticks([0, .25, .5])\n",
    "    ax.grid(True, zorder=-10, linestyle='--')\n",
    "g = sns.FacetGrid(df, hue='scan', hue_order=scan_order)\n",
    "g.map(oracle_regression, 'pearson_oracle', 'pearson', s=.5)\n",
    "\n",
    "g.fig.set_size_inches((5,5))\n",
    "g.fig.set_dpi(100)\n",
    "g.set_xlabels('oracle correlation')\n",
    "g.set_ylabels('test correlation')\n",
    "g.set_titles('scan {col_name}')\n",
    "g.ax.legend(ncol=1)    \n",
    "sns.despine(trim=True)\n",
    "g.fig.tight_layout()\n",
    "g.fig.subplots_adjust(right=.8)\n",
    "g.fig.savefig('figures/percent_oracle_noMod_noShift_Linear.png', dpi=200)"
   ]
  },
  {
   "cell_type": "markdown",
   "metadata": {},
   "source": [
    "## with shifter and modulator"
   ]
  },
  {
   "cell_type": "code",
   "execution_count": null,
   "metadata": {},
   "outputs": [],
   "source": [
    "group_ids = [21, 22, 23]\n",
    "group_constr = 'group_id in ({})'.format(','.join(tuple(map(str, group_ids))))\n",
    "\n",
    "network_config = dj.AndList([\n",
    "    {    'core_hash': '7cb8163e1098433a5faca879ef93baed', # 12 x 36\n",
    "         'seed': 2606,\n",
    "         'mod_hash': '4954311aa3bebb347ebf411ab5198890',\n",
    "         'shift_hash': '64add03e1462b7413b59812d446aee9f',\n",
    "         'train_hash': '624f62a2ef01d39f6703f3491bb9242b', # batchsize=8 stop gradient\n",
    "         'ro_hash':'bf00321c11e46d68d4a42653a725969d', # 2 and 4 \n",
    "        },\n",
    "    'data_hash in (\"5253599d3dceed531841271d6eeba9c5\")',\n",
    "    group_constr\n",
    "])\n",
    "    \n"
   ]
  },
  {
   "cell_type": "code",
   "execution_count": null,
   "metadata": {},
   "outputs": [],
   "source": [
    "models.Encoder.TestScores() & network_config"
   ]
  },
  {
   "cell_type": "code",
   "execution_count": null,
   "metadata": {},
   "outputs": [],
   "source": [
    "df_oracle = pd.DataFrame( (oracle.MovieOracle.TotalUnitScores() & 'data_hash in (\"5253599d3dceed531841271d6eeba9c5\")' & group_constr).fetch())\n",
    "df_network = pd.DataFrame( (models.Encoder.UnitTestScores() & network_config).fetch())\n",
    "df = df_network.merge(df_oracle, on=['group_id', 'data_hash', 'animal_id', 'session', 'scan_idx', 'preproc_id', 'unit_id'], suffixes=(\"\", \"_oracle\")).drop([e for e in df_network.columns if 'hash' in e], axis=1)\n",
    "df['session'] = list(map(str, df['session']))\n",
    "df['animal_id'] = list(map(str, df['animal_id']))\n",
    "df['scan_idx'] = list(map(str, df['scan_idx']))\n",
    "df['scan'] = ['{animal_id}-{session}-{scan_idx}'.format(**r.to_dict()) for _, r in df.iterrows()]\n"
   ]
  },
  {
   "cell_type": "code",
   "execution_count": null,
   "metadata": {},
   "outputs": [],
   "source": [
    "sns.set_context('paper', font_scale=1.5)\n",
    "sns.set_palette(scan_cmap)\n",
    "def oracle_regression(x, y, **kwargs):\n",
    "    x = np.array(x)[:, None]\n",
    "    y = np.array(y)\n",
    "    a, _, _, _ = np.linalg.lstsq(x, y)\n",
    "    ax = plt.gca()\n",
    "    label = kwargs.pop('label')\n",
    "    ax.scatter(x, y, **kwargs)\n",
    "    \n",
    "    ax.plot([0,.6],[0,a*.6], '-', color=kwargs['color'], lw=2, label= label)\n",
    "    ax.plot([0,.6],[0,.6], '--', color='darkslategray')\n",
    "    ax.text(.62, .7 * a, '{:.1f}% oracle'.format(a.item() *100), fontsize=10, va='center', color=kwargs['color'], rotation=40)\n",
    "    ax.set_xlim([-.1, .6])\n",
    "    ax.set_ylim([-.1, .6])\n",
    "    ax.set_xticks([0, .25, .5])\n",
    "    ax.set_yticks([0, .25, .5])\n",
    "    ax.grid(True, zorder=-10, linestyle='--')\n",
    "g = sns.FacetGrid(df, hue='scan', hue_order=scan_order)\n",
    "g.map(oracle_regression, 'pearson_oracle', 'pearson', s=.5)\n",
    "\n",
    "g.fig.set_size_inches((5,5))\n",
    "g.fig.set_dpi(100)\n",
    "g.set_xlabels('oracle correlation')\n",
    "g.set_ylabels('test correlation')\n",
    "g.set_titles('scan {col_name}')\n",
    "g.ax.legend(ncol=1)    \n",
    "sns.despine(trim=True)\n",
    "g.fig.tight_layout()\n",
    "g.fig.subplots_adjust(right=.8)\n",
    "g.fig.savefig('figures/percent_oracle__Linear.png', dpi=200)"
   ]
  },
  {
   "cell_type": "markdown",
   "metadata": {},
   "source": [
    "# Cross Performance"
   ]
  },
  {
   "cell_type": "code",
   "execution_count": null,
   "metadata": {},
   "outputs": [],
   "source": [
    "group_ids = [21,22, 17, 20]\n",
    "group_constr = 'group_id in ({})'.format(','.join(tuple(map(str, group_ids))))\n",
    "network_config = {\n",
    "         'core_hash': '22d11147b37e3947e7d1034cc00d402c', # 12 x 36\n",
    "         'mod_hash': '4954311aa3bebb347ebf411ab5198890',\n",
    "         'seed': 2606,\n",
    "         'shift_hash': '64add03e1462b7413b59812d446aee9f',\n",
    "         'train_hash': '624f62a2ef01d39f6703f3491bb9242b', # batchsize=8 stop gradient\n",
    "         'ro_hash':'bf00321c11e46d68d4a42653a725969d', # 2 and 4 \n",
    "        }\n",
    "network_config = dj.AndList([\n",
    "    network_config,\n",
    "    'data_hash in (\"a4ecafc831670c7744ffe22320df77b7\", \"76a76dbc0216d8b10a079957ea24e3ad\")'\n",
    "])\n",
    "\n",
    "        "
   ]
  },
  {
   "cell_type": "code",
   "execution_count": null,
   "metadata": {},
   "outputs": [],
   "source": [
    "performance.XPearson().populate(network_config, group_constr)"
   ]
  },
  {
   "cell_type": "code",
   "execution_count": null,
   "metadata": {},
   "outputs": [],
   "source": [
    "rel = performance.XPearson.UnitScores() & network_config & group_constr\n",
    "df = pd.DataFrame(rel.fetch())\n",
    "df['core train data'] = [core_train(r) for _, r in df.iterrows()]\n",
    "df['readout train data'] = [readout_train(r) for _, r in df.iterrows()]\n",
    "df['test data'] = [test_label(r) for _, r in df.iterrows()]\n",
    "df['scan'] = ['{animal_id}-{session}-{scan_idx}'.format(**r.to_dict()) for _, r in df.iterrows()]\n",
    "# df['train type'] = [train_type(r) for _, r in df.iterrows()]"
   ]
  },
  {
   "cell_type": "code",
   "execution_count": null,
   "metadata": {},
   "outputs": [],
   "source": [
    "my_pal = sns.xkcd_palette(['cerulean blue', 'golden rod'])\n",
    "sns.set_palette(my_pal)\n",
    "hue_order = ['noise', 'both', 'movies']\n",
    "with sns.axes_style(\"ticks\"):\n",
    "    g = sns.factorplot(\"readout train data\", \"pearson\", hue='core train data', row=\"scan\", col='test data', \n",
    "                       data=df, kind=\"bar\", hue_order=['noise', 'movies'], \n",
    "                       order=['noise', 'movies', 'both'], col_order=['noise', 'movies'], row_order=['17358-5-3', '17797-8-5'],\n",
    "                       legend=False, margin_titles=False)\n",
    "g._margin_titles = True\n",
    "g.fig.set_dpi(100)\n",
    "g.set_titles(row_template=\"scan {row_name}\", col_template=\"tested on {col_name}\")\n",
    "g.set_ylabels(\"test correlation\")\n",
    "\n",
    "for a in g.axes.ravel():\n",
    "    a.set_yticks(performance_yticks)\n",
    "    a.set_ylim(performance_ylim)\n",
    "    a.yaxis.grid(linestyle='--', zorder=-100)\n",
    "    fix_axis(a)\n",
    "g.set_xlabels('readout trained on')\n",
    "for a in g.axes[1]:\n",
    "    a.set_title('')\n",
    "    \n",
    "leg = g.axes[0,0].legend(title='core trained on', prop={'size':10}, loc='upper left', ncol=2)\n",
    "plt.setp(leg.get_title(),fontsize='small')\n",
    "\n",
    "g.set_ylabels('test correlation')\n",
    "sns.despine(trim=True)\n",
    "g.fig.set_size_inches((7,7))\n",
    "\n",
    "g.fig.savefig('figures/Xperformance.png', dpi=200)"
   ]
  },
  {
   "cell_type": "code",
   "execution_count": null,
   "metadata": {},
   "outputs": [],
   "source": [
    "sns.set_context('paper', font_scale=1.5)\n",
    "my_pal = ['#999999', '#99CC33']\n",
    "df2 = pd.DataFrame(df)\n",
    "df2 = df[df2['test data'] == df2['readout train data']]\n",
    "sns.set_palette(my_pal)\n",
    "with sns.axes_style(\"ticks\"):\n",
    "    g = sns.factorplot(\"scan\", \"pearson\", hue='core train data', col='test data', \n",
    "                       data=df2, kind=\"bar\", \n",
    "                       col_order=['noise', 'movies'], hue_order=['noise', 'movies'], order=['17358-5-3', '17797-8-5'],\n",
    "                       legend=False, margin_titles=False)\n",
    "    \n",
    "g.fig.set_dpi(100)\n",
    "g.set_titles(\"readout trained and tested on {col_name}\")\n",
    "g.set_ylabels(\"test correlation\")\n",
    "\n",
    "for a in g.axes.ravel():\n",
    "    a.set_yticks(performance_yticks)\n",
    "    a.set_ylim(performance_ylim)\n",
    "    a.yaxis.grid(linestyle='--', zorder=-100)\n",
    "    fix_axis(a)\n",
    "    \n",
    "leg = g.axes[0,0].legend(title='core trained on', prop={'size':12}, loc='upper left', ncol=1, bbox_to_anchor=(.05, .95))\n",
    "plt.setp(leg.get_title(),fontsize='small')\n",
    "\n",
    "sns.despine(trim=True)\n",
    "g.fig.set_figheight(5)\n",
    "\n",
    "g.fig.savefig('figures/movie_as_good_as_dedicated.png', dpi=200)"
   ]
  }
 ],
 "metadata": {
  "kernelspec": {
   "display_name": "Python 3",
   "language": "python",
   "name": "python3"
  },
  "language_info": {
   "codemirror_mode": {
    "name": "ipython",
    "version": 3
   },
   "file_extension": ".py",
   "mimetype": "text/x-python",
   "name": "python",
   "nbconvert_exporter": "python",
   "pygments_lexer": "ipython3",
   "version": "3.5.2"
  }
 },
 "nbformat": 4,
 "nbformat_minor": 2
}
